{
 "cells": [
  {
   "cell_type": "markdown",
   "id": "c4052ff1-0975-449d-9d9b-858976d84647",
   "metadata": {
    "tags": []
   },
   "source": [
    "# DÉMARCHES DE TRAVAIL \n",
    "\n",
    "1. Définir un objectif mésurable\n",
    "\n",
    "- Objectif:\n",
    "Prédire si une personne est infectée en fonction des données cliniques disponibles.\n",
    "- Métrique \n",
    "1. Précision\n",
    "2. Recall(Sensibilité)\n",
    "3. Score F1\n",
    "\n",
    "\n",
    "- Précision\n",
    "Réduire au maximum le Faux Positif(Éviter d'envoyer à l'hôpital les gens en bonne santé)\n",
    "- Recall\n",
    "Réduire au maximum le Faux Négatif(Éviter de laisser circuler dans la nature les gens malades)\n",
    "\n",
    "\n",
    "2. EDA(Exploratory Data Analysis)\n",
    "\n",
    "<img src=\"EDA.png\" alt=\"Description \" >\n",
    "\n",
    "\n",
    "3. Pre-processing\n",
    "<img src=\"Pre.png\" alt=\"Description\">\n",
    "4. Modeling\n",
    "\n",
    "<img src=\"Mo.png\" alt=\"Description\" >"
   ]
  },
  {
   "cell_type": "code",
   "execution_count": null,
   "id": "63d3450d-f8e0-430f-adb2-7e21408152fa",
   "metadata": {},
   "outputs": [],
   "source": []
  },
  {
   "cell_type": "code",
   "execution_count": null,
   "id": "2c806691-ebec-4c63-a5f3-e26b919f3494",
   "metadata": {},
   "outputs": [],
   "source": []
  }
 ],
 "metadata": {
  "kernelspec": {
   "display_name": "Python 3 (ipykernel)",
   "language": "python",
   "name": "python3"
  },
  "language_info": {
   "codemirror_mode": {
    "name": "ipython",
    "version": 3
   },
   "file_extension": ".py",
   "mimetype": "text/x-python",
   "name": "python",
   "nbconvert_exporter": "python",
   "pygments_lexer": "ipython3",
   "version": "3.11.4"
  }
 },
 "nbformat": 4,
 "nbformat_minor": 5
}
