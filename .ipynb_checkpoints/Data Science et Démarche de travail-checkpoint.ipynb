{
 "cells": [
  {
   "cell_type": "markdown",
   "id": "c4052ff1-0975-449d-9d9b-858976d84647",
   "metadata": {},
   "source": [
    "# DÉMARCHES DE TRAVAIL \n",
    "\n",
    "1. Définir un objectif mésurable\n",
    "\n",
    "- Précision\n",
    "Réduire au maximum le Faux Positif(Éviter d'envoyer à l'hôpital les gens en bonne santé)\n",
    "- Recall \n"
   ]
  }
 ],
 "metadata": {
  "kernelspec": {
   "display_name": "Python 3 (ipykernel)",
   "language": "python",
   "name": "python3"
  },
  "language_info": {
   "codemirror_mode": {
    "name": "ipython",
    "version": 3
   },
   "file_extension": ".py",
   "mimetype": "text/x-python",
   "name": "python",
   "nbconvert_exporter": "python",
   "pygments_lexer": "ipython3",
   "version": "3.11.4"
  }
 },
 "nbformat": 4,
 "nbformat_minor": 5
}
